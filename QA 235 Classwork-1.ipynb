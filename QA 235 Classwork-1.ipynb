{
 "cells": [
  {
   "cell_type": "markdown",
   "id": "e8decc2a-0d13-454e-a260-784bc43f15ab",
   "metadata": {},
   "source": [
    "# **Python Scripting**"
   ]
  },
  {
   "cell_type": "markdown",
   "id": "23332b4e-922d-4e73-87c9-501e2cd86c77",
   "metadata": {},
   "source": [
    "## **Day-1**"
   ]
  },
  {
   "cell_type": "markdown",
   "id": "bc148703-c2d4-47c6-9d85-6069749a170f",
   "metadata": {},
   "source": [
    "## **Python Inputs and Outputs**"
   ]
  },
  {
   "cell_type": "code",
   "execution_count": 3,
   "id": "23c015af-9164-4d98-bba2-c434d54386d0",
   "metadata": {},
   "outputs": [
    {
     "name": "stdin",
     "output_type": "stream",
     "text": [
      "Please enter the first integer number:  100\n",
      "Please enter the second integer number:  200\n"
     ]
    },
    {
     "name": "stdout",
     "output_type": "stream",
     "text": [
      "100 <class 'str'> 2433460933872\n",
      "200 <class 'str'> 2433460934064\n",
      "So the total is 100200\n",
      "End of the program...\n"
     ]
    }
   ],
   "source": [
    "num1 = input(\"Please enter the first integer number: \")\n",
    "num2 = input(\"Please enter the second integer number: \")\n",
    "print (num1, type(num1), id(num1))\n",
    "print (num2, type(num2), id(num2))\n",
    "total = num1 + num2   # string concatenation\n",
    "print (\"So the total is\", total)\n",
    "print (\"End of the program...\")"
   ]
  },
  {
   "cell_type": "code",
   "execution_count": 5,
   "id": "ca086afa-d9f6-410b-b6df-ccd080b78ec9",
   "metadata": {},
   "outputs": [
    {
     "name": "stdin",
     "output_type": "stream",
     "text": [
      "Please enter the first integer number:  300\n",
      "Please enter the second integer number:  200\n"
     ]
    },
    {
     "name": "stdout",
     "output_type": "stream",
     "text": [
      "300 <class 'int'> 2433460301232\n",
      "200 <class 'int'> 2433374034384\n",
      "So the total is 500\n",
      "End of the program...\n"
     ]
    }
   ],
   "source": [
    "num1 = int(input(\"Please enter the first integer number: \"))\n",
    "num2 = int(input(\"Please enter the second integer number: \"))\n",
    "print (num1, type(num1), id(num1))\n",
    "print (num2, type(num2), id(num2))\n",
    "total = num1 + num2   # algebraic addition\n",
    "print (\"So the total is\", total)\n",
    "print (\"End of the program...\")"
   ]
  },
  {
   "cell_type": "code",
   "execution_count": 19,
   "id": "745242c5-7b83-43c7-9098-7f596d6f176f",
   "metadata": {},
   "outputs": [
    {
     "name": "stdout",
     "output_type": "stream",
     "text": [
      "300 200 500\n",
      "So 300 + 200 = 500\n",
      "So 300 + 200 = 500\n",
      "So 300 + 200 = 500\n",
      "So 300 + 200 = 500\n",
      "So 300 + 200 = 500\n",
      "So 300 + 200 = 500\n",
      "So 300 + 200 = 500\n",
      "So 300 + 200 = 500\n",
      "So 300 + 200 = 500\n",
      "So 300.000000 + 200 = 500\n",
      "So    300.000 + 200 = 500\n"
     ]
    }
   ],
   "source": [
    "print (num1, num2, total)\n",
    "print (\"So\", num1, \"+\", num2, \"=\", total)\n",
    "print (\"So \" + str(num1) + \" + \" + str(num2) + \" = \" + str(total))\n",
    "print (\"So {} + {} = {}\".format(num1, num2, total))   # here {} denotes variable placeholder\n",
    "print (\"So {fn} + {sn} = {res}\".format(fn = num1, sn = num2, res = total))   # here {} denotes labelled placeholder\n",
    "print (\"So {fn} + {sn} = {res}\".format(res = total, fn = num1, sn = num2))   # here {} denotes labelled placeholder\n",
    "print (\"So {0} + {1} = {2}\".format(num1, num2, total))   # here {} denotes indexed placeholder\n",
    "print (\"So {2} + {1} = {0}\".format(total, num2, num1))   # here {} denotes indexed placeholder\n",
    "print (f\"So {num1} + {num2} = {total}\")    # smart formatting\n",
    "print (\"So %d + %d = %d\"%(num1, num2, total))   # %d denotes decimal number\n",
    "print (\"So %f + %d = %d\"%(num1, num2, total))   # %f denotes floating point number\n",
    "print (\"So %10.3f + %d = %d\"%(num1, num2, total))   # %f denotes floating point number"
   ]
  },
  {
   "cell_type": "markdown",
   "id": "12655993-2902-4690-bd9e-2fa14237f49d",
   "metadata": {},
   "source": [
    "## **Dynamic Variable Types**"
   ]
  },
  {
   "cell_type": "code",
   "execution_count": 22,
   "id": "4c1c1a06-4f62-4cc4-9335-5d0923f01b95",
   "metadata": {},
   "outputs": [
    {
     "name": "stdout",
     "output_type": "stream",
     "text": [
      "100 <class 'int'> 2433374031184\n",
      "100.5 <class 'float'> 2433484769264\n",
      "Punch <class 'str'> 2433489407408\n",
      "P <class 'str'> 2433382536112\n",
      "Punch <class 'str'> 2433489407408\n",
      "P <class 'str'> 2433382536112\n",
      "True <class 'bool'> 140732982380752\n",
      "False <class 'bool'> 140732982380784\n"
     ]
    }
   ],
   "source": [
    "var1 = 100; print (var1, type(var1), id(var1))\n",
    "var1 = 100.5; print (var1, type(var1), id(var1))\n",
    "var1 = \"Punch\"; print (var1, type(var1), id(var1))\n",
    "var1 = \"P\"; print (var1, type(var1), id(var1))\n",
    "var1 = 'Punch'; print (var1, type(var1), id(var1))\n",
    "var1 = 'P'; print (var1, type(var1), id(var1))\n",
    "var1 = True; print (var1, type(var1), id(var1))\n",
    "var1 = False; print (var1, type(var1), id(var1))"
   ]
  },
  {
   "cell_type": "markdown",
   "id": "d629009f-44ec-4c90-bb32-cc4d6ba3e2c5",
   "metadata": {},
   "source": [
    "## **Python Operators**"
   ]
  },
  {
   "cell_type": "code",
   "execution_count": 29,
   "id": "3fb0469a-e7f4-4add-b5ee-cbdffd47eda9",
   "metadata": {},
   "outputs": [
    {
     "name": "stdout",
     "output_type": "stream",
     "text": [
      "Even\n",
      "Odd\n",
      "Hello Hello Hello \n",
      "Banana\n",
      "Even\n"
     ]
    }
   ],
   "source": [
    "# Arithmetic Operators: + - * / // ** %\n",
    "# Conditional Operators: > >= < <= != ==\n",
    "# Logical Operators: and or not\n",
    "# Assignment Operator: = \n",
    "# Special Assignment Operators: += -= *= /= //= **= %=\n",
    "\n",
    "# Operators: Unary, Binary, Ternary\n",
    "# Unary Operators (Require only one operand): +100 -300\n",
    "# Binary Operators (Require only two operands): 700 + 100    900 - 300\n",
    "# Ternary Operator (Requires only three operands)\n",
    "num1 = 100;\n",
    "result = \"Even\" if (num1 % 2 == 0) else \"Odd\"\n",
    "print (result)\n",
    "\n",
    "num1 = 111;\n",
    "result = \"Even\" if (num1 % 2 == 0) else \"Odd\"\n",
    "print (result)\n",
    "\n",
    "print (\"Hello \" * 3)\n",
    "print (\"Ba\" + \"na\" * 2)\n",
    "\n",
    "import numpy as np\n",
    "num = 100\n",
    "print (np.where(num % 2 == 0, \"Even\", \"Odd\"))"
   ]
  },
  {
   "cell_type": "code",
   "execution_count": 24,
   "id": "a9402d0b-305e-49f7-b382-dc403d7fa2fc",
   "metadata": {},
   "outputs": [
    {
     "name": "stdout",
     "output_type": "stream",
     "text": [
      "140\n",
      "60\n",
      "4000\n",
      "2.5\n",
      "2\n",
      "100000000\n",
      "20\n"
     ]
    }
   ],
   "source": [
    "# Arithmetic Operators\n",
    "print (100 + 40)   # addition\n",
    "print (100 - 40)   # subtraction\n",
    "print (100 * 40)   # multiplication\n",
    "print (100 / 40)   # float division\n",
    "print (100 // 40)  # integer division\n",
    "print (100 ** 4)   # exponentiation\n",
    "print (100 % 40)   # modulus or remainder of the division"
   ]
  },
  {
   "cell_type": "code",
   "execution_count": 25,
   "id": "30e836b1-5a15-409c-b5db-f09790f02e28",
   "metadata": {},
   "outputs": [
    {
     "name": "stdout",
     "output_type": "stream",
     "text": [
      "True True True\n",
      "True True True\n"
     ]
    }
   ],
   "source": [
    "# Conditional Operators\n",
    "print (100 > 10, 100 >= 10, 100 != 10)\n",
    "print (10 < 100, 10 <= 100, 100 == 100)"
   ]
  },
  {
   "cell_type": "code",
   "execution_count": 27,
   "id": "9545aaec-2503-4239-852a-7fc0b255fb78",
   "metadata": {},
   "outputs": [
    {
     "name": "stdout",
     "output_type": "stream",
     "text": [
      "True False False False\n",
      "True True True False\n",
      "True False\n"
     ]
    }
   ],
   "source": [
    "# Logical Operators\n",
    "print (True and True, True and False, False and True, False and False)\n",
    "print (True or True, True or False, False or True, False or False)\n",
    "print (not False, not True)"
   ]
  },
  {
   "cell_type": "markdown",
   "id": "86f99a9f-94fa-437e-99ca-82341a5dfbac",
   "metadata": {},
   "source": [
    "## **ASCII Codes and Characters**"
   ]
  },
  {
   "cell_type": "code",
   "execution_count": 30,
   "id": "7daa922b-9d59-4e00-a989-89aca8b2089a",
   "metadata": {},
   "outputs": [
    {
     "name": "stdout",
     "output_type": "stream",
     "text": [
      "65 97 90 122\n",
      "A a Z z\n"
     ]
    }
   ],
   "source": [
    "# ASCII (American Standard Code for Information Interchange) Codes\n",
    "# A => 65, B => 66, Z => 90\n",
    "# a => 97, b => 98, z => 122\n",
    "# 0 => 48, 1 => 49, 9 => 57\n",
    "# Space Bar/Blank => 32, Enter => 13, Esc => 27, Back Space => 9, Tab => 8\n",
    "# ASCII Code is 8 bits code ranging from 0 to 255\n",
    "# It can be divided into two categories:\n",
    "# 1. Normal ASCII Codes (0 to 127) - Printable\n",
    "# 2. Extended ASCII Codes (128 to 255) - Non-Printable\n",
    "print (ord('A'), ord('a'), ord('Z'), ord('z'))  # returns characters to ASCII Codes\n",
    "print (chr(65), chr(97), chr(90), chr(122))     # returns ASCII Codes to characters"
   ]
  },
  {
   "cell_type": "markdown",
   "id": "3422a6e5-96a9-4e09-b957-030aed4a99ea",
   "metadata": {},
   "source": [
    "## **Conditional Statements**"
   ]
  },
  {
   "cell_type": "code",
   "execution_count": 36,
   "id": "a396c0d7-b722-4181-9ff4-7d3c80d69161",
   "metadata": {},
   "outputs": [
    {
     "name": "stdin",
     "output_type": "stream",
     "text": [
      "Please enter the first integer:  55\n",
      "Please enter the second integer:  77\n",
      "Please enter the third integer:  22\n"
     ]
    },
    {
     "name": "stdout",
     "output_type": "stream",
     "text": [
      "The second number is the maximum number...\n",
      "So the maximum number is 77\n",
      "End of the program...\n"
     ]
    }
   ],
   "source": [
    "# Take three numbers from the user as input and find the maximum of these numbers\n",
    "num1 = int(input(\"Please enter the first integer: \"))\n",
    "num2 = int(input(\"Please enter the second integer: \"))\n",
    "num3 = int(input(\"Please enter the third integer: \"))\n",
    "if (num1 > num2):\n",
    "    if (num1 > num3):\n",
    "        print (\"The first number is the maximum number...\")\n",
    "        print (\"So the maximum number is\", num1)\n",
    "    else:\n",
    "        print (\"The third number is the maximum number...\")\n",
    "        print (\"So the maximum number is\", num3)\n",
    "elif (num2 > num3):\n",
    "    print (\"The second number is the maximum number...\")\n",
    "    print (\"So the maximum number is\", num2)\n",
    "else:\n",
    "    print (\"The third number is the maximum number...\")\n",
    "    print (\"So the maximum number is\", num3)\n",
    "print (\"End of the program...\")"
   ]
  },
  {
   "cell_type": "code",
   "execution_count": 39,
   "id": "d609c91b-2fed-4185-b2ea-95f5093c9d93",
   "metadata": {},
   "outputs": [
    {
     "name": "stdin",
     "output_type": "stream",
     "text": [
      "Please enter the first integer:  200\n",
      "Please enter the second integer:  10\n",
      "Please enter the third integer:  300\n"
     ]
    },
    {
     "name": "stdout",
     "output_type": "stream",
     "text": [
      "The third number is the maximum number...\n",
      "So the maximum number is 300\n",
      "End of the program...\n"
     ]
    }
   ],
   "source": [
    "# Take three numbers from the user as input and find the maximum of these numbers\n",
    "num1 = int(input(\"Please enter the first integer: \"))\n",
    "num2 = int(input(\"Please enter the second integer: \"))\n",
    "num3 = int(input(\"Please enter the third integer: \"))\n",
    "if (num1 > num2 and num1 > num3):\n",
    "    print (\"The first number is the maximum number...\")\n",
    "    print (\"So the maximum number is\", num1)\n",
    "elif (num2 > num3):\n",
    "    print (\"The second number is the maximum number...\")\n",
    "    print (\"So the maximum number is\", num2)\n",
    "else:\n",
    "    print (\"The third number is the maximum number...\")\n",
    "    print (\"So the maximum number is\", num3)\n",
    "print (\"End of the program...\")"
   ]
  },
  {
   "cell_type": "code",
   "execution_count": 44,
   "id": "da22b9ae-7648-4796-93f2-1656962f0711",
   "metadata": {},
   "outputs": [
    {
     "name": "stdout",
     "output_type": "stream",
     "text": [
      "M A I N  M E N U ...\n",
      "~~~~~~~~~~~~~~~~~~~~\n",
      "1 >  A D D I T I O N  O P E R A T I O N ...\n",
      "2 >  S U B T R A C T I O N  O P E R A T I O N ...\n",
      "3 >  M U L T I P L I C A T I O N  O P E R A T I O N ...\n",
      "4 >  D I V I S I O N  O P E R A T I O N ...\n"
     ]
    },
    {
     "name": "stdin",
     "output_type": "stream",
     "text": [
      "Please enter youe choice integer (1 to 4):  4\n",
      "Please enter the first integer:  100\n",
      "Please enter the second integer:  0\n"
     ]
    },
    {
     "name": "stdout",
     "output_type": "stream",
     "text": [
      "Performing the division operation...\n",
      "Division by ZERO is Illegal !!!\n",
      "Division operation can not be carried out...\n",
      "End of the program...\n"
     ]
    }
   ],
   "source": [
    "# Calculator Program\n",
    "print (\"M A I N  M E N U ...\")\n",
    "print (\"~~~~~~~~~~~~~~~~~~~~\")\n",
    "print (\"1 >  A D D I T I O N  O P E R A T I O N ...\")\n",
    "print (\"2 >  S U B T R A C T I O N  O P E R A T I O N ...\")\n",
    "print (\"3 >  M U L T I P L I C A T I O N  O P E R A T I O N ...\")\n",
    "print (\"4 >  D I V I S I O N  O P E R A T I O N ...\")\n",
    "choice = int(input(\"Please enter youe choice integer (1 to 4): \"))\n",
    "num1 = int(input(\"Please enter the first integer: \"))\n",
    "num2 = int(input(\"Please enter the second integer: \"))\n",
    "if (choice == 1):\n",
    "    print (\"Performing the addition operation...\")\n",
    "    result = num1 + num2\n",
    "    print (f\"So {num1} + {num2} = {result}\")\n",
    "elif (choice == 2):\n",
    "    print (\"Performing the subtraction operation...\")\n",
    "    result = num1 - num2\n",
    "    print (f\"So {num1} - {num2} = {result}\")\n",
    "elif (choice == 3):\n",
    "    print (\"Performing the multiplication operation...\")\n",
    "    result = num1 * num2\n",
    "    print (f\"So {num1} * {num2} = {result}\")\n",
    "elif (choice == 4):\n",
    "    print (\"Performing the division operation...\")\n",
    "    if (num2 == 0):\n",
    "        print (\"Division by ZERO is Illegal !!!\")\n",
    "        print (\"Division operation can not be carried out...\")\n",
    "    else:\n",
    "        result = num1 / num2\n",
    "        print (f\"So {num1} / {num2} = {result}\")\n",
    "else:\n",
    "    print (\"Invalid choice number has been provided...\")\n",
    "    print (\"No operation could get carried out...\")\n",
    "print (\"End of the program...\")"
   ]
  },
  {
   "cell_type": "markdown",
   "id": "b7989fcc-4c00-4895-926b-c038008bc003",
   "metadata": {},
   "source": [
    "## **Dealing with 'print' statement**"
   ]
  },
  {
   "cell_type": "code",
   "execution_count": 49,
   "id": "43406688-5ba2-4f2b-83ae-37427753ffe6",
   "metadata": {},
   "outputs": [
    {
     "name": "stdout",
     "output_type": "stream",
     "text": [
      "Hello to all\n",
      "Good afternoon\n",
      "Hello - to all, Good afternoon\n"
     ]
    }
   ],
   "source": [
    "print (\"Hello\",\"to all\")\n",
    "print (\"Good afternoon\")\n",
    "\n",
    "print (\"Hello\", \"to all\", sep = \" - \", end = \", \")\n",
    "print (\"Good afternoon\")"
   ]
  },
  {
   "cell_type": "code",
   "execution_count": 47,
   "id": "c7ef9f51-d779-411b-b909-70a6c244a760",
   "metadata": {},
   "outputs": [
    {
     "name": "stdout",
     "output_type": "stream",
     "text": [
      "Help on built-in function print in module builtins:\n",
      "\n",
      "print(...)\n",
      "    print(value, ..., sep=' ', end='\\n', file=sys.stdout, flush=False)\n",
      "    \n",
      "    Prints the values to a stream, or to sys.stdout by default.\n",
      "    Optional keyword arguments:\n",
      "    file:  a file-like object (stream); defaults to the current sys.stdout.\n",
      "    sep:   string inserted between values, default a space.\n",
      "    end:   string appended after the last value, default a newline.\n",
      "    flush: whether to forcibly flush the stream.\n",
      "\n"
     ]
    }
   ],
   "source": [
    "help (print)   # ... ellipsis"
   ]
  },
  {
   "cell_type": "markdown",
   "id": "9fad5f2b-ed00-40ed-8b7b-f96a9d3f006e",
   "metadata": {},
   "source": [
    "## **Day-2**"
   ]
  },
  {
   "cell_type": "markdown",
   "id": "7a7c9604-8ca5-4119-94ac-f753d617cdc3",
   "metadata": {},
   "source": [
    "## **Python Loops**"
   ]
  },
  {
   "cell_type": "code",
   "execution_count": 1,
   "id": "252fcb18-f4e9-42a4-89af-03c4821a37e5",
   "metadata": {},
   "outputs": [
    {
     "name": "stdout",
     "output_type": "stream",
     "text": [
      "0, 1, 2, 3, 4, 5, 6, 7, 8, 9, \n",
      "count = 10\n"
     ]
    }
   ],
   "source": [
    "count = 0\n",
    "for i in range(10):\n",
    "    print (i, end = \", \")\n",
    "    count += 1\n",
    "print (\"\\ncount =\", count)"
   ]
  },
  {
   "cell_type": "code",
   "execution_count": 2,
   "id": "6880c7b0-21f6-464e-8975-8597f77f0fcd",
   "metadata": {},
   "outputs": [
    {
     "name": "stdout",
     "output_type": "stream",
     "text": [
      "1, 2, 3, 4, 5, 6, 7, 8, 9, \n",
      "count = 9\n"
     ]
    }
   ],
   "source": [
    "count = 0\n",
    "for i in range(1, 10):\n",
    "    print (i, end = \", \")\n",
    "    count += 1\n",
    "print (\"\\ncount =\", count)"
   ]
  },
  {
   "cell_type": "code",
   "execution_count": 3,
   "id": "eed903ee-c060-40a6-9615-e3a951db09a6",
   "metadata": {},
   "outputs": [
    {
     "name": "stdout",
     "output_type": "stream",
     "text": [
      "1, 3, 5, 7, 9, \n",
      "count = 5\n"
     ]
    }
   ],
   "source": [
    "count = 0\n",
    "for i in range(1, 10, 2):\n",
    "    print (i, end = \", \")\n",
    "    count += 1\n",
    "print (\"\\ncount =\", count)"
   ]
  },
  {
   "cell_type": "code",
   "execution_count": 6,
   "id": "237327d3-0615-4872-b737-b2ee949ad456",
   "metadata": {},
   "outputs": [
    {
     "name": "stdout",
     "output_type": "stream",
     "text": [
      "10, 8, 6, 4, 2, \n",
      "count = 5\n"
     ]
    }
   ],
   "source": [
    "count = 0\n",
    "for i in range(10, 1, -2):\n",
    "    print (i, end = \", \")\n",
    "    count += 1\n",
    "print (\"\\ncount =\", count)"
   ]
  },
  {
   "cell_type": "code",
   "execution_count": 5,
   "id": "a6c555b6-acdd-4b15-b272-c775e064b0c8",
   "metadata": {},
   "outputs": [
    {
     "name": "stdout",
     "output_type": "stream",
     "text": [
      "HelloHelloHello\n",
      "***\n",
      "...\n"
     ]
    }
   ],
   "source": [
    "print (\"Hello\" * 3)\n",
    "print (\"*\" * 3)\n",
    "print (\".\" * 3)"
   ]
  },
  {
   "cell_type": "code",
   "execution_count": null,
   "id": "6dc85e16-471c-47c5-b0a4-ac3968465b01",
   "metadata": {},
   "outputs": [],
   "source": [
    "Pattern-1\n",
    "---------\n",
    "n = 6 (User given)    i   .   *\n",
    "                    -------------\n",
    ".....*                1   5   1\n",
    "....***               2   4   3       (i, n)\n",
    "...*****              3   3   5  . => (n - i)\n",
    "..*******             4   2   7\n",
    ".*********            5   1   9  * => (2 * i - 1)\n",
    "***********           6   0  11\n",
    "                    -------------\n",
    "                    Tracing Table"
   ]
  },
  {
   "cell_type": "code",
   "execution_count": 8,
   "id": "5558ece2-ffc4-4c24-bca7-c42da84a7cd0",
   "metadata": {},
   "outputs": [
    {
     "name": "stdin",
     "output_type": "stream",
     "text": [
      "Please enter the number of layers:  8\n"
     ]
    },
    {
     "name": "stdout",
     "output_type": "stream",
     "text": [
      ".......*\n",
      "......***\n",
      ".....*****\n",
      "....*******\n",
      "...*********\n",
      "..***********\n",
      ".*************\n",
      "***************\n",
      "End of the program...\n"
     ]
    }
   ],
   "source": [
    "n = int(input(\"Please enter the number of layers: \"))\n",
    "for i in range(1, n + 1):\n",
    "    print (\".\" * (n - i) + \"*\" * (2 * i - 1))\n",
    "    \n",
    "print (\"End of the program...\")"
   ]
  },
  {
   "cell_type": "code",
   "execution_count": 15,
   "id": "c2333653-aeb6-4a5f-94bd-9db4274104a8",
   "metadata": {},
   "outputs": [
    {
     "name": "stdout",
     "output_type": "stream",
     "text": [
      "0\n",
      "1\n",
      "2\n",
      "3\n",
      "4\n",
      "5\n",
      "6\n",
      "7\n",
      "Executing the BREAK Statement...\n",
      "End of the program...\n"
     ]
    }
   ],
   "source": [
    "for i in range(10):\n",
    "    print (i)\n",
    "    if (i == 7):\n",
    "        print (\"Executing the BREAK Statement...\")\n",
    "        break\n",
    "else:\n",
    "    print (\"Executing the ELSE block...\")\n",
    "    print (\"Had a smooth execution...\")\n",
    "print (\"End of the program...\")"
   ]
  },
  {
   "cell_type": "code",
   "execution_count": 17,
   "id": "01f789b8-26a3-4afc-a542-a5f8646247a9",
   "metadata": {},
   "outputs": [
    {
     "name": "stdout",
     "output_type": "stream",
     "text": [
      "Executing for i = 0\n",
      "Executing for i = 1\n",
      "Executing for i = 2\n",
      "Continuing with the next iteration for i = 3\n",
      "Executing for i = 4\n",
      "Executing for i = 5\n",
      "Executing for i = 6\n",
      "Continuing with the next iteration for i = 7\n",
      "Executing for i = 8\n",
      "Executing for i = 9\n",
      "Executing the ELSE block...\n",
      "Had a smooth execution...\n",
      "End of the program...\n"
     ]
    }
   ],
   "source": [
    "for i in range(10):\n",
    "    if (i == 3 or i == 7):\n",
    "        print (\"Continuing with the next iteration for i =\", i)\n",
    "        continue\n",
    "    print (\"Executing for i =\", i)\n",
    "else:\n",
    "    print (\"Executing the ELSE block...\")\n",
    "    print (\"Had a smooth execution...\")\n",
    "print (\"End of the program...\")"
   ]
  },
  {
   "cell_type": "code",
   "execution_count": 25,
   "id": "9c9e6fb5-ffb1-4176-842f-b223776a0e25",
   "metadata": {},
   "outputs": [
    {
     "name": "stdout",
     "output_type": "stream",
     "text": [
      "Executing for i = 0\n",
      "Executing for i = 1\n",
      "Executing for i = 2\n",
      "Continuing with the next iteration for i = 3\n",
      "Executing for i = 4\n",
      "Executing for i = 5\n",
      "Executing for i = 6\n",
      "Continuing with the next iteration for i = 7\n",
      "Executing for i = 8\n",
      "Executing for i = 9\n",
      "Executing the ELSE block...\n",
      "Had a smooth execution...\n",
      "End of the program...\n"
     ]
    }
   ],
   "source": [
    "for i in range(10):\n",
    "    if (i == 3 or i == 7):\n",
    "        print (\"Continuing with the next iteration for i =\", i)\n",
    "        continue\n",
    "    else:\n",
    "        pass   # pass is called statement placeholder\n",
    "    print (\"Executing for i =\", i)\n",
    "else:\n",
    "    print (\"Executing the ELSE block...\")\n",
    "    print (\"Had a smooth execution...\")\n",
    "print (\"End of the program...\")"
   ]
  },
  {
   "cell_type": "code",
   "execution_count": 21,
   "id": "d530b0df-2e73-4a04-98b6-8b2f130b55fd",
   "metadata": {},
   "outputs": [
    {
     "name": "stdout",
     "output_type": "stream",
     "text": [
      "Looping with count = 1\n",
      "Looping with count = 2\n",
      "Looping with count = 3\n",
      "Looping with count = 4\n",
      "Looping with count = 5\n",
      "Executing the ELSE block...\n",
      "Had a smooth execution...\n",
      "End of the program...\n"
     ]
    }
   ],
   "source": [
    "count = 1\n",
    "while (count <= 5):\n",
    "    print (\"Looping with count =\", count)\n",
    "    count = count + 1\n",
    "else:\n",
    "    print (\"Executing the ELSE block...\")\n",
    "    print (\"Had a smooth execution...\")\n",
    "print (\"End of the program...\")"
   ]
  },
  {
   "cell_type": "code",
   "execution_count": 23,
   "id": "6a068f0a-3b52-4537-b739-d059d90822c8",
   "metadata": {},
   "outputs": [
    {
     "name": "stdout",
     "output_type": "stream",
     "text": [
      "[100, 2.45, True, 'Food', 201] 5 <class 'list'> 2450465634048\n",
      "(100, 2.45, True, 'Food', 201) 5 <class 'tuple'> 2450465202768\n",
      "{'name': 'Bidisha', 'location': 'Noida', 'job': 'Developer', 'company': 'Accenture'} 4 <class 'dict'> 2450465428416\n",
      "{True, 2.45, 100, 201, 'Delhi', 'Food'} 6 <class 'set'> 2450464028064\n",
      "frozenset({True, 2.45, 100, 201, 'Food', 'Delhi'}) 6 <class 'frozenset'> 2450464028512\n"
     ]
    }
   ],
   "source": [
    "# different inbuilt collections\n",
    "list1 = [100, 2.45, True, \"Food\", 201]   # mutable\n",
    "print (list1, len(list1), type(list1), id(list1))\n",
    "tuple1 = (100, 2.45, True, \"Food\", 201)   # immutable, read only\n",
    "print (tuple1, len(tuple1), type(tuple1), id(tuple1))\n",
    "dict1 = {'name':'Bidisha', 'location':'Noida', 'job':'Developer', 'company':'Accenture'} # mutable\n",
    "print (dict1, len(dict1), type(dict1), id(dict1))\n",
    "set1 = {\"Delhi\", 100, 2.45, True, \"Food\", 201, True, \"Food\", 201}   # mutable\n",
    "print (set1, len(set1), type(set1), id(set1))\n",
    "fset1 = frozenset([\"Delhi\", 100, 2.45, True, \"Food\", 201, True, \"Food\", 201]) # immutable, read only\n",
    "print (fset1, len(fset1), type(fset1), id(fset1))"
   ]
  },
  {
   "cell_type": "code",
   "execution_count": 27,
   "id": "8da704b7-374e-40b7-a064-ec8a5bdee4c5",
   "metadata": {},
   "outputs": [
    {
     "name": "stdout",
     "output_type": "stream",
     "text": [
      "VISIT DOCTOR...\n",
      "Good Morning...\n",
      "Day = 1 and Medicine No. = 1...\n",
      "Day = 1 and Medicine No. = 2...\n",
      "Day = 1 and Medicine No. = 3...\n",
      "Good Night...\n",
      "--------------------------------------------------\n",
      "Good Morning...\n",
      "Day = 2 and Medicine No. = 1...\n",
      "Day = 2 and Medicine No. = 2...\n",
      "Day = 2 and Medicine No. = 3...\n",
      "Good Night...\n",
      "--------------------------------------------------\n",
      "Good Morning...\n",
      "Day = 3 and Medicine No. = 1...\n",
      "Day = 3 and Medicine No. = 2...\n",
      "Day = 3 and Medicine No. = 3...\n",
      "Good Night...\n",
      "--------------------------------------------------\n",
      "Good Morning...\n",
      "Day = 4 and Medicine No. = 1...\n",
      "Day = 4 and Medicine No. = 2...\n",
      "Day = 4 and Medicine No. = 3...\n",
      "Good Night...\n",
      "--------------------------------------------------\n",
      "Good Morning...\n",
      "Day = 5 and Medicine No. = 1...\n",
      "Day = 5 and Medicine No. = 2...\n",
      "Day = 5 and Medicine No. = 3...\n",
      "Good Night...\n",
      "--------------------------------------------------\n",
      "THANKS TO DOCTOR...\n",
      "Total number of medicines consumed is 15\n"
     ]
    }
   ],
   "source": [
    "# nested for loops\n",
    "medicount = 0\n",
    "print (\"VISIT DOCTOR...\")\n",
    "for day in range(1, 6):\n",
    "    print (\"Good Morning...\")\n",
    "    for medi in range(1, 4):\n",
    "        print(f\"Day = {day} and Medicine No. = {medi}...\")\n",
    "        medicount = medicount + 1\n",
    "    print (\"Good Night...\")\n",
    "    print (\"--------------------------------------------------\")\n",
    "print (\"THANKS TO DOCTOR...\")\n",
    "print (\"Total number of medicines consumed is\", medicount)"
   ]
  },
  {
   "cell_type": "code",
   "execution_count": null,
   "id": "15f29f8c-9691-43f8-a763-a12edd5daf79",
   "metadata": {},
   "outputs": [],
   "source": [
    "# HOMEWORK: Rewrite the previous nested for loop exmaple to nested while loops."
   ]
  },
  {
   "cell_type": "code",
   "execution_count": 28,
   "id": "28985c47-7f3d-4609-8a05-a1d04b98027f",
   "metadata": {},
   "outputs": [
    {
     "name": "stdout",
     "output_type": "stream",
     "text": [
      "VISIT DOCTOR...\n",
      "Good Morning...\n",
      "Day = 1 and Medicine No. = 1...\n",
      "Day = 1 and Medicine No. = 2...\n",
      "Day = 1 and Medicine No. = 3...\n",
      "Good Night...\n",
      "--------------------------------------------------\n",
      "Good Morning...\n",
      "Day = 2 and Medicine No. = 1...\n",
      "Day = 2 and Medicine No. = 2...\n",
      "Day = 2 and Medicine No. = 3...\n",
      "Good Night...\n",
      "--------------------------------------------------\n",
      "Good Morning...\n",
      "Day = 3 and Medicine No. = 1...\n",
      "Day = 3 and Medicine No. = 2...\n",
      "Day = 3 and Medicine No. = 3...\n",
      "Good Night...\n",
      "--------------------------------------------------\n",
      "Good Morning...\n",
      "Day = 4 and Medicine No. = 1...\n",
      "Day = 4 and Medicine No. = 2...\n",
      "Day = 4 and Medicine No. = 3...\n",
      "Good Night...\n",
      "--------------------------------------------------\n",
      "Good Morning...\n",
      "Day = 5 and Medicine No. = 1...\n",
      "Day = 5 and Medicine No. = 2...\n",
      "Day = 5 and Medicine No. = 3...\n",
      "Good Night...\n",
      "--------------------------------------------------\n",
      "THANKS TO DOCTOR...\n",
      "Total number of medicines consumed is 15\n"
     ]
    }
   ],
   "source": [
    "# nested for loops\n",
    "medicount = 0\n",
    "print (\"VISIT DOCTOR...\")\n",
    "day = 1\n",
    "while (day <= 5):\n",
    "    print (\"Good Morning...\")\n",
    "    medi = 1\n",
    "    while (medi <= 3):\n",
    "        print(f\"Day = {day} and Medicine No. = {medi}...\")\n",
    "        medicount = medicount + 1\n",
    "        medi += 1\n",
    "    print (\"Good Night...\")\n",
    "    print (\"--------------------------------------------------\")\n",
    "    day += 1\n",
    "print (\"THANKS TO DOCTOR...\")\n",
    "print (\"Total number of medicines consumed is\", medicount)"
   ]
  },
  {
   "cell_type": "markdown",
   "id": "91858929-a3cd-4836-8c35-9b80ce1ab5f8",
   "metadata": {},
   "source": [
    "## **Day-3**"
   ]
  },
  {
   "cell_type": "markdown",
   "id": "cd36af32-c76c-445f-8787-dcdd4f90202f",
   "metadata": {},
   "source": [
    "## **User Defined Function (UDF)**"
   ]
  },
  {
   "cell_type": "code",
   "execution_count": 30,
   "id": "a0468de7-fcd7-4fb8-93a4-4b0a5486424c",
   "metadata": {},
   "outputs": [
    {
     "name": "stdout",
     "output_type": "stream",
     "text": [
      "<class 'function'> 2450496987360\n",
      "Welcome Welcome Welcome Welcome \n",
      "End of the function body...\n",
      "Welcome Welcome Welcome Welcome \n",
      "End of the function body...\n",
      "Welcome Welcome Welcome Welcome \n",
      "End of the function body...\n"
     ]
    }
   ],
   "source": [
    "def funct1():\n",
    "    print (\"Welcome \" * 4)\n",
    "    print (\"End of the function body...\")\n",
    "print (type(funct1), id(funct1))\n",
    "funct1()\n",
    "funct1()\n",
    "funct1()"
   ]
  },
  {
   "cell_type": "code",
   "execution_count": 33,
   "id": "5f74eb4f-af31-4884-94d5-4f8984d3a223",
   "metadata": {},
   "outputs": [
    {
     "name": "stdout",
     "output_type": "stream",
     "text": [
      "Hello Hello Hello Hello Hello Hello Hello Hello Hello Hello \n",
      "Welcome Welcome Welcome Welcome Welcome \n",
      "Hi !!! Hi !!! Hi !!! Hi !!! \n"
     ]
    }
   ],
   "source": [
    "def funct2(msg, times):   # msg and times are called as positional parameters\n",
    "    print (msg * times)\n",
    "funct2 (\"Hello \", 10)   # \"Hello \" and 10 are called as positional arguments\n",
    "funct2 (\"Welcome \", 5)\n",
    "funct2 (\"Hi !!! \", 4)"
   ]
  },
  {
   "cell_type": "code",
   "execution_count": 36,
   "id": "722d6a69-3b19-4dd7-9c90-d1d999f9278c",
   "metadata": {},
   "outputs": [
    {
     "name": "stdout",
     "output_type": "stream",
     "text": [
      "Hello Hello Hello Hello Hello Hello Hello Hello Hello Hello \n",
      "Welcome Welcome Welcome \n",
      "Good Bye !!! Good Bye !!! Good Bye !!! Good Bye !!! Good Bye !!! \n"
     ]
    }
   ],
   "source": [
    "def funct3(msg, times):\n",
    "    return msg * times\n",
    "\n",
    "result = funct3(\"Hello \", 10)\n",
    "print (result)\n",
    "result = funct3(\"Welcome \", 3)\n",
    "print (result)\n",
    "print (funct3(\"Good Bye !!! \", 5))"
   ]
  },
  {
   "cell_type": "code",
   "execution_count": 47,
   "id": "a3d4a976-39fa-4cb3-a319-cbc2c88f57c3",
   "metadata": {},
   "outputs": [
    {
     "name": "stdout",
     "output_type": "stream",
     "text": [
      "So par1 = 100, par2 = 200 and par3 = 300...\n",
      "So par1 = 100, par2 = 200 and par3 = 333...\n",
      "So par1 = 100, par2 = 222 and par3 = 333...\n",
      "So par1 = 111, par2 = 222 and par3 = 333...\n",
      "So par1 = 100, par2 = 222 and par3 = 300...\n",
      "So par1 = 100, par2 = 222 and par3 = 300...\n",
      "So par1 = 111, par2 = 200 and par3 = 333...\n"
     ]
    }
   ],
   "source": [
    "# function with default arguments\n",
    "def funct4(par1 = 111, par2 = 222, par3 = 333):\n",
    "    print (f\"So par1 = {par1}, par2 = {par2} and par3 = {par3}...\")\n",
    "    \n",
    "funct4(100, 200, 300)\n",
    "funct4(100, 200)\n",
    "funct4(100)\n",
    "funct4()\n",
    "funct4(par1 = 100, par3 = 300)\n",
    "funct4(par3 = 300, par1 = 100)\n",
    "funct4(par2 = 200)"
   ]
  },
  {
   "cell_type": "code",
   "execution_count": 49,
   "id": "57c6b637-86c4-4135-b80b-84a22080b2a1",
   "metadata": {},
   "outputs": [
    {
     "name": "stdout",
     "output_type": "stream",
     "text": [
      "500\n",
      "400\n"
     ]
    }
   ],
   "source": [
    "def funct5(num1, num2 = None):\n",
    "    if (num2 == None):\n",
    "    # if (num2 is None):\n",
    "        return 2 * num1\n",
    "    else:\n",
    "        return num1 + num2\n",
    "    \n",
    "print (funct5(100, 400))\n",
    "print (funct5(200))"
   ]
  },
  {
   "cell_type": "code",
   "execution_count": 51,
   "id": "2712e45d-2b53-4163-a0d7-c8e1a868469b",
   "metadata": {},
   "outputs": [
    {
     "name": "stdout",
     "output_type": "stream",
     "text": [
      "Total = 140, Difference = 60, Product = 4000 and Quotient = 2.5...\n",
      "(140, 60, 4000, 2.5) 4 <class 'tuple'>\n",
      "Total = 140, Difference = 60, Product = 4000 and Quotient = 2.5...\n"
     ]
    }
   ],
   "source": [
    "# function returning multiple arguments\n",
    "def funct6(num1, num2): \n",
    "    total = num1 + num2\n",
    "    difference = num1 - num2\n",
    "    product = num1 * num2\n",
    "    quotient = num1 / num2\n",
    "    return total, difference, product, quotient\n",
    "\n",
    "tt, dd, pp, qq = funct6(100, 40)\n",
    "print (f\"Total = {tt}, Difference = {dd}, Product = {pp} and Quotient = {qq}...\")\n",
    "result = funct6(100, 40)\n",
    "print (result, len(result), type(result))\n",
    "print (f\"Total = {result[0]}, Difference = {result[1]}, Product = {result[2]} and Quotient = {result[3]}...\")"
   ]
  },
  {
   "cell_type": "code",
   "execution_count": 52,
   "id": "6c83cda2-c251-469e-8b05-06a752978191",
   "metadata": {},
   "outputs": [
    {
     "name": "stdout",
     "output_type": "stream",
     "text": [
      "('Amitava', 'Developer', 65000) 3 <class 'tuple'> 2450501885120\n",
      "('Amitava', 'Developer', 65000, 'Pune') 4 <class 'tuple'> 2450502138464\n",
      "('Amitava', 'Developer', 65000, 'Pune', 'Masters') 5 <class 'tuple'> 2450470418000\n"
     ]
    }
   ],
   "source": [
    "# function with variable number of arguments\n",
    "def funct7(*arg):    # *arg means forcefully defining arg as a tuple type object\n",
    "    print (arg, len(arg), type(arg), id(arg))\n",
    "    \n",
    "funct7(\"Amitava\", \"Developer\", 65000)\n",
    "funct7(\"Amitava\", \"Developer\", 65000, \"Pune\")\n",
    "funct7(\"Amitava\", \"Developer\", 65000, \"Pune\", \"Masters\")"
   ]
  },
  {
   "cell_type": "code",
   "execution_count": 56,
   "id": "4cb5c3b7-634b-4e89-978f-ce345fe3fd18",
   "metadata": {},
   "outputs": [
    {
     "name": "stdout",
     "output_type": "stream",
     "text": [
      "{'name': 'Amitava', 'job': 'Developer', 'salary': 65000, 'location': 'Pune'} 4 <class 'dict'> 2450502428992\n",
      "{'name': 'Amitava', 'job': 'Developer', 'salary': 65000, 'location': 'Pune', 'qualification': 'ME'} 5 <class 'dict'> 2450501791040\n"
     ]
    }
   ],
   "source": [
    "# function with variable number of arguments\n",
    "def funct8(**kwarg):  # **kwarg means forcefully defining kwarg as a dictionary type key-word argument\n",
    "    print (kwarg, len(kwarg), type(kwarg), id(kwarg))\n",
    "    \n",
    "funct8(name = \"Amitava\", job = \"Developer\", salary = 65000, location = \"Pune\")\n",
    "funct8(name = \"Amitava\", job = \"Developer\", salary = 65000, location = \"Pune\", qualification = \"ME\")"
   ]
  },
  {
   "cell_type": "code",
   "execution_count": 55,
   "id": "a30610a5-d4e5-4e7c-8b8a-4b373a0e0741",
   "metadata": {},
   "outputs": [
    {
     "name": "stdout",
     "output_type": "stream",
     "text": [
      "('Amitava', 'Developer', 65000) 3 <class 'tuple'> 2450501971392\n",
      "{'location': 'Pune', 'qualification': 'Masters', 'hobby': 'drawing'} 3 <class 'dict'> 2450501666176\n",
      "\n",
      "('Amitava', 'Developer', 65000) 3 <class 'tuple'> 2450501882304\n",
      "{} 0 <class 'dict'> 2450501673920\n",
      "\n",
      "() 0 <class 'tuple'> 2450384633968\n",
      "{'location': 'Pune', 'qualification': 'Masters', 'hobby': 'drawing'} 3 <class 'dict'> 2450469958784\n"
     ]
    }
   ],
   "source": [
    "# function with variable number of arguments\n",
    "def funct9(*arg, **kwarg):\n",
    "    print (arg, len(arg), type(arg), id(arg))\n",
    "    print (kwarg, len(kwarg), type(kwarg), id(kwarg))\n",
    "    \n",
    "funct9(\"Amitava\", \"Developer\", 65000, location = \"Pune\", qualification = \"Masters\", hobby = 'drawing')\n",
    "print ()\n",
    "funct9(\"Amitava\", \"Developer\", 65000)\n",
    "print ()\n",
    "funct9(location = \"Pune\", qualification = \"Masters\", hobby = 'drawing')"
   ]
  },
  {
   "cell_type": "code",
   "execution_count": 57,
   "id": "b4e2dbb9-af8f-4845-8607-8b288626377e",
   "metadata": {},
   "outputs": [
    {
     "name": "stdout",
     "output_type": "stream",
     "text": [
      "Executing for i = 1...\n",
      "Executing for i = 2...\n",
      "Executing for i = 3...\n",
      "Executing for i = 4...\n",
      "Executing for i = 5...\n",
      "So factorial of 5 is 120...\n"
     ]
    }
   ],
   "source": [
    "# non-recursive factorial calculating function\n",
    "# 5! = 1 * 2 * 3 * 4 * 5 = 5 * 4 * 3 * 2 * 1 = 120\n",
    "def factorial_nr(num):\n",
    "    if (num == 0 or num == 1): return 1\n",
    "    fact = 1\n",
    "    for i in range(1, num + 1):\n",
    "        print (f\"Executing for i = {i}...\")\n",
    "        fact = fact * i\n",
    "    return fact\n",
    "\n",
    "n = 5\n",
    "result = factorial_nr(n)\n",
    "print (f\"So factorial of {n} is {result}...\")"
   ]
  },
  {
   "cell_type": "code",
   "execution_count": 58,
   "id": "f10e7c1c-ee6b-4f92-9ca0-686af7d2169b",
   "metadata": {},
   "outputs": [
    {
     "name": "stdout",
     "output_type": "stream",
     "text": [
      "So factorial of 5 is 120...\n"
     ]
    }
   ],
   "source": [
    "# recursive factorial calculating function\n",
    "# 5! = 1 * 2 * 3 * 4 * 5 = 5 * 4 * 3 * 2 * 1 = 120\n",
    "# n! = n * (n - 1)!\n",
    "def factorial_r(num):\n",
    "    if (num == 0 or num == 1): return 1  # base case: for certain input values outputs are pre-known\n",
    "    return num * factorial_r(num - 1)    # reursive case: the function will call itself\n",
    "\n",
    "n = 5\n",
    "result = factorial_r(n)\n",
    "print (f\"So factorial of {n} is {result}...\")"
   ]
  },
  {
   "cell_type": "code",
   "execution_count": null,
   "id": "d7d851b8-fffe-4250-aaee-0463e243aef1",
   "metadata": {},
   "outputs": [],
   "source": [
    "5! = 5 x 4!\n",
    "         4 x 3!\n",
    "             3 x 2!\n",
    "                 2 x 1!\n",
    "                     1\n",
    "                 2\n",
    "             6\n",
    "         24\n",
    "     120"
   ]
  },
  {
   "cell_type": "markdown",
   "id": "2d99fe20-201c-41ac-aedf-dd8d50cea847",
   "metadata": {},
   "source": [
    "## **Lambda Function**"
   ]
  },
  {
   "cell_type": "code",
   "execution_count": 60,
   "id": "5d4af536-62c0-4ec2-a194-48d3841c4425",
   "metadata": {},
   "outputs": [
    {
     "name": "stdout",
     "output_type": "stream",
     "text": [
      "25 <function <lambda> at 0x0000023A8DE58DC0> <class 'function'> 2450511990208\n",
      "36\n"
     ]
    }
   ],
   "source": [
    "# lambda function, function without any name, i.e. anonymous function\n",
    "my_square = lambda num: num * num  # lambda function should have a single expression body\n",
    "\n",
    "print (my_square(5), my_square, type(my_square), id(my_square))\n",
    "result = my_square(6)\n",
    "print (result)"
   ]
  },
  {
   "cell_type": "code",
   "execution_count": 61,
   "id": "34c2f9eb-2662-4bef-959d-024f946feb02",
   "metadata": {},
   "outputs": [
    {
     "name": "stdout",
     "output_type": "stream",
     "text": [
      "900 <function <lambda> at 0x0000023A8DE58EE0> <class 'function'> 2450511990496\n",
      "800\n"
     ]
    }
   ],
   "source": [
    "my_addition = lambda num1, num2: num1 + num2\n",
    "\n",
    "print (my_addition(500, 400), my_addition, type(my_addition), id(my_addition))\n",
    "result = my_addition(300, 500)\n",
    "print (result)"
   ]
  },
  {
   "cell_type": "markdown",
   "id": "acb378d3-7f41-44c9-bf7e-c22e4b277b30",
   "metadata": {},
   "source": [
    "## **Day-4**"
   ]
  },
  {
   "cell_type": "code",
   "execution_count": null,
   "id": "17731e34-44ae-4e0c-a95a-b265367eeef1",
   "metadata": {},
   "outputs": [],
   "source": []
  },
  {
   "cell_type": "code",
   "execution_count": null,
   "id": "8bed385e-3c51-41d6-82fd-9bc914a7e903",
   "metadata": {},
   "outputs": [],
   "source": []
  },
  {
   "cell_type": "markdown",
   "id": "e97a0136-24b4-4874-a271-3ae67aefa821",
   "metadata": {},
   "source": [
    "## **Day-5**"
   ]
  },
  {
   "cell_type": "code",
   "execution_count": null,
   "id": "33c530ff-c6c5-4dd7-bbb7-2115821a4183",
   "metadata": {},
   "outputs": [],
   "source": []
  },
  {
   "cell_type": "code",
   "execution_count": null,
   "id": "2f049078-8f60-4568-9648-c7959ef921dc",
   "metadata": {},
   "outputs": [],
   "source": []
  },
  {
   "cell_type": "code",
   "execution_count": null,
   "id": "89279f67-e03f-40d2-9d5a-9bb5cb13f4f0",
   "metadata": {},
   "outputs": [],
   "source": []
  },
  {
   "cell_type": "code",
   "execution_count": null,
   "id": "0e0dbd88-8d31-4294-a813-901576ba92ce",
   "metadata": {},
   "outputs": [],
   "source": []
  }
 ],
 "metadata": {
  "kernelspec": {
   "display_name": "Python 3 (ipykernel)",
   "language": "python",
   "name": "python3"
  },
  "language_info": {
   "codemirror_mode": {
    "name": "ipython",
    "version": 3
   },
   "file_extension": ".py",
   "mimetype": "text/x-python",
   "name": "python",
   "nbconvert_exporter": "python",
   "pygments_lexer": "ipython3",
   "version": "3.10.9"
  }
 },
 "nbformat": 4,
 "nbformat_minor": 5
}
